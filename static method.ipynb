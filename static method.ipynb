{
 "cells": [
  {
   "cell_type": "code",
   "execution_count": 1,
   "id": "eb55c367",
   "metadata": {},
   "outputs": [
    {
     "name": "stdout",
     "output_type": "stream",
     "text": [
      "Name: Nandhana\n",
      "Roll No.: 35\n"
     ]
    }
   ],
   "source": [
    "class Student:\n",
    "# Static method\n",
    "    @staticmethod\n",
    "    def get_student_details(name, roll):\n",
    "        print(\"Name:\", name)\n",
    "        print(\"Roll No.:\", roll)\n",
    "\n",
    "# Driver code \n",
    "name = \"Nandhana\"\n",
    "roll = \"35\"\n",
    "\n",
    "# call the static method\n",
    "Student.get_student_details(name, roll)"
   ]
  },
  {
   "cell_type": "code",
   "execution_count": null,
   "id": "c12cc51e",
   "metadata": {},
   "outputs": [],
   "source": []
  }
 ],
 "metadata": {
  "kernelspec": {
   "display_name": "Python 3 (ipykernel)",
   "language": "python",
   "name": "python3"
  },
  "language_info": {
   "codemirror_mode": {
    "name": "ipython",
    "version": 3
   },
   "file_extension": ".py",
   "mimetype": "text/x-python",
   "name": "python",
   "nbconvert_exporter": "python",
   "pygments_lexer": "ipython3",
   "version": "3.9.12"
  }
 },
 "nbformat": 4,
 "nbformat_minor": 5
}
