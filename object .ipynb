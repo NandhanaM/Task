{
 "cells": [
  {
   "cell_type": "code",
   "execution_count": 1,
   "id": "b1504259",
   "metadata": {},
   "outputs": [
    {
     "name": "stdout",
     "output_type": "stream",
     "text": [
      "Nandhana\n"
     ]
    }
   ],
   "source": [
    "#Creating an empty object:\n",
    "obj = {}\n",
    "\n",
    "#Adding a key-value pair to an object:\n",
    "obj[\"name\"] = \"Nandhana\"\n",
    "\n",
    "#Accessing the value of a key in an object:\n",
    "print(obj[\"name\"]) "
   ]
  },
  {
   "cell_type": "code",
   "execution_count": null,
   "id": "7e699fd9",
   "metadata": {},
   "outputs": [],
   "source": []
  }
 ],
 "metadata": {
  "kernelspec": {
   "display_name": "Python 3 (ipykernel)",
   "language": "python",
   "name": "python3"
  },
  "language_info": {
   "codemirror_mode": {
    "name": "ipython",
    "version": 3
   },
   "file_extension": ".py",
   "mimetype": "text/x-python",
   "name": "python",
   "nbconvert_exporter": "python",
   "pygments_lexer": "ipython3",
   "version": "3.9.12"
  }
 },
 "nbformat": 4,
 "nbformat_minor": 5
}
