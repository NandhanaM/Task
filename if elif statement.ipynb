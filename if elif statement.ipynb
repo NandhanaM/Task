{
 "cells": [
  {
   "cell_type": "code",
   "execution_count": 4,
   "id": "e0ae7f59",
   "metadata": {},
   "outputs": [],
   "source": [
    "import pandas as pd\n"
   ]
  },
  {
   "cell_type": "code",
   "execution_count": 1,
   "id": "522b3c8b",
   "metadata": {
    "scrolled": true
   },
   "outputs": [
    {
     "name": "stdout",
     "output_type": "stream",
     "text": [
      "\n",
      "Note: you may need to restart the kernel to use updated packages.\n"
     ]
    },
    {
     "name": "stderr",
     "output_type": "stream",
     "text": [
      "usage: conda-script.py [-h] [-V] command ...\n",
      "conda-script.py: error: unrecognized arguments: prophet\n"
     ]
    }
   ],
   "source": [
    "conda install -c conda-forge prophet\n"
   ]
  },
  {
   "cell_type": "code",
   "execution_count": null,
   "id": "348f9215",
   "metadata": {},
   "outputs": [],
   "source": [
    "# instantiate the model and set parameters\n",
    "model = Prophet(\n",
    "    interval_width=0.95,\n",
    "    growth='linear',\n",
    "    daily_seasonality=False,\n",
    "    weekly_seasonality=True,\n",
    "    yearly_seasonality=True,\n",
    "    seasonality_mode='multiplicative'\n",
    ")\n"
   ]
  },
  {
   "cell_type": "code",
   "execution_count": null,
   "id": "18de9642",
   "metadata": {},
   "outputs": [],
   "source": [
    "# fit the model to historical data\n",
    "model.fit(history_pd)"
   ]
  },
  {
   "cell_type": "code",
   "execution_count": 2,
   "id": "cb402e15",
   "metadata": {},
   "outputs": [
    {
     "ename": "NameError",
     "evalue": "name 'model' is not defined",
     "output_type": "error",
     "traceback": [
      "\u001b[1;31m---------------------------------------------------------------------------\u001b[0m",
      "\u001b[1;31mNameError\u001b[0m                                 Traceback (most recent call last)",
      "Input \u001b[1;32mIn [2]\u001b[0m, in \u001b[0;36m<cell line: 1>\u001b[1;34m()\u001b[0m\n\u001b[1;32m----> 1\u001b[0m future_pd \u001b[38;5;241m=\u001b[39m \u001b[43mmodel\u001b[49m\u001b[38;5;241m.\u001b[39mmake_future_dataframe(\n\u001b[0;32m      2\u001b[0m     periods\u001b[38;5;241m=\u001b[39m\u001b[38;5;241m90\u001b[39m,\n\u001b[0;32m      3\u001b[0m     freq\u001b[38;5;241m=\u001b[39m\u001b[38;5;124m'\u001b[39m\u001b[38;5;124md\u001b[39m\u001b[38;5;124m'\u001b[39m,\n\u001b[0;32m      4\u001b[0m     include_history\u001b[38;5;241m=\u001b[39m\u001b[38;5;28;01mTrue\u001b[39;00m\n\u001b[0;32m      5\u001b[0m )\n\u001b[0;32m      7\u001b[0m \u001b[38;5;66;03m# predict over the dataset\u001b[39;00m\n\u001b[0;32m      8\u001b[0m forecast_pd \u001b[38;5;241m=\u001b[39m model\u001b[38;5;241m.\u001b[39mpredict(future_pd)\n",
      "\u001b[1;31mNameError\u001b[0m: name 'model' is not defined"
     ]
    }
   ],
   "source": [
    "future_pd = model.make_future_dataframe(\n",
    "    periods=90,\n",
    "    freq='d',\n",
    "    include_history=True\n",
    ")\n",
    "\n",
    "# predict over the dataset\n",
    "forecast_pd = model.predict(future_pd)"
   ]
  },
  {
   "cell_type": "code",
   "execution_count": null,
   "id": "0efe6737",
   "metadata": {},
   "outputs": [],
   "source": []
  }
 ],
 "metadata": {
  "kernelspec": {
   "display_name": "Python 3 (ipykernel)",
   "language": "python",
   "name": "python3"
  },
  "language_info": {
   "codemirror_mode": {
    "name": "ipython",
    "version": 3
   },
   "file_extension": ".py",
   "mimetype": "text/x-python",
   "name": "python",
   "nbconvert_exporter": "python",
   "pygments_lexer": "ipython3",
   "version": "3.9.12"
  }
 },
 "nbformat": 4,
 "nbformat_minor": 5
}
