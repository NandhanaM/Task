{
 "cells": [
  {
   "cell_type": "code",
   "execution_count": 13,
   "id": "e822d34b-c4b8-4ff1-aaad-94643d937c06",
   "metadata": {
    "tags": []
   },
   "outputs": [
    {
     "name": "stdout",
     "output_type": "stream",
     "text": [
      "16\n"
     ]
    }
   ],
   "source": [
    "#to add 2 numbers without using arithmetic operator\n",
    "def sum(a, b):\n",
    "    while (b != 0):\n",
    "        carry = a & b \n",
    "        a = a ^ b\n",
    "        b = carry << 1\n",
    "    return a\n",
    "print(sum(7,9))"
   ]
  },
  {
   "cell_type": "code",
   "execution_count": 14,
   "id": "dd5f6d89-f434-4881-9c00-ebd336dd03a6",
   "metadata": {
    "tags": []
   },
   "outputs": [
    {
     "name": "stdin",
     "output_type": "stream",
     "text": [
      "Enter base:  8\n",
      "Enter exponent:  4\n"
     ]
    },
    {
     "name": "stdout",
     "output_type": "stream",
     "text": [
      "power= 4096\n"
     ]
    }
   ],
   "source": [
    "#to calculate the power without using pow func and by using for loop\n",
    "b=int(input(\"Enter base: \"))\n",
    "e=int(input(\"Enter exponent: \"))\n",
    "result = 1\n",
    "for i in range(e):\n",
    "    result =result* b\n",
    "\n",
    "print(\"power=\",result)"
   ]
  },
  {
   "cell_type": "code",
   "execution_count": 15,
   "id": "66d35ca3-bca9-4046-8958-9d9f5b650470",
   "metadata": {
    "tags": []
   },
   "outputs": [
    {
     "name": "stdin",
     "output_type": "stream",
     "text": [
      "Enter base:  4\n",
      "Enter exponent:  6\n"
     ]
    },
    {
     "name": "stdout",
     "output_type": "stream",
     "text": [
      "power= 4096\n"
     ]
    }
   ],
   "source": [
    "#to calculate power without using pow func,but using while loop\n",
    "b = int(input(\"Enter base: \"))\n",
    "e = int(input(\"Enter exponent: \"))\n",
    "\n",
    "result = 1\n",
    "\n",
    "while e > 0:\n",
    "    result =result* b\n",
    "    e = e-1\n",
    "\n",
    "print(\"power=\", result)"
   ]
  },
  {
   "cell_type": "code",
   "execution_count": 16,
   "id": "f33ea738-f891-4c73-825a-1b1735812540",
   "metadata": {},
   "outputs": [
    {
     "name": "stdin",
     "output_type": "stream",
     "text": [
      "Enter a starting range: 3\n",
      "Enter a ending range: 15\n"
     ]
    },
    {
     "name": "stdout",
     "output_type": "stream",
     "text": [
      "3\n",
      "5\n",
      "7\n",
      "11\n",
      "13\n"
     ]
    }
   ],
   "source": [
    "#to print prime numbers within the range\n",
    "lower=int(input(\"Enter a starting range:\"))\n",
    "upper=int(input(\"Enter a ending range:\"))\n",
    "for n in range(lower,upper+1):\n",
    "    if n>1:\n",
    "        for i in range(2,n):\n",
    "            if (n%i)==0:\n",
    "                break\n",
    "        else:\n",
    "            print(n)"
   ]
  },
  {
   "cell_type": "code",
   "execution_count": null,
   "id": "b981ec3e-0089-4da4-81fc-161099efda18",
   "metadata": {},
   "outputs": [],
   "source": []
  }
 ],
 "metadata": {
  "kernelspec": {
   "display_name": "Python 3 (ipykernel)",
   "language": "python",
   "name": "python3"
  },
  "language_info": {
   "codemirror_mode": {
    "name": "ipython",
    "version": 3
   },
   "file_extension": ".py",
   "mimetype": "text/x-python",
   "name": "python",
   "nbconvert_exporter": "python",
   "pygments_lexer": "ipython3",
   "version": "3.10.7"
  }
 },
 "nbformat": 4,
 "nbformat_minor": 5
}
