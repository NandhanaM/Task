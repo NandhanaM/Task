{
 "cells": [
  {
   "cell_type": "code",
   "execution_count": 1,
   "id": "7d581390-ed52-4fa6-a907-aa607e8a4e4b",
   "metadata": {
    "tags": []
   },
   "outputs": [
    {
     "name": "stdout",
     "output_type": "stream",
     "text": [
      "{'name': 'Jack', 'age': 25, 'profession': 'Software Engineer'}\n"
     ]
    }
   ],
   "source": [
    "dict = {\n",
    "    'name': 'Jack',\n",
    "    'age': 25,\n",
    "    'profession': 'Software Engineer'\n",
    "    }\n",
    "\n",
    "print(dict)"
   ]
  },
  {
   "cell_type": "code",
   "execution_count": null,
   "id": "373b60da-64ea-44ae-bd96-a96470e3c5d1",
   "metadata": {},
   "outputs": [],
   "source": []
  }
 ],
 "metadata": {
  "kernelspec": {
   "display_name": "Python 3 (ipykernel)",
   "language": "python",
   "name": "python3"
  },
  "language_info": {
   "codemirror_mode": {
    "name": "ipython",
    "version": 3
   },
   "file_extension": ".py",
   "mimetype": "text/x-python",
   "name": "python",
   "nbconvert_exporter": "python",
   "pygments_lexer": "ipython3",
   "version": "3.10.7"
  }
 },
 "nbformat": 4,
 "nbformat_minor": 5
}
