{
 "cells": [
  {
   "cell_type": "code",
   "execution_count": 2,
   "id": "2a44e786",
   "metadata": {},
   "outputs": [
    {
     "name": "stdout",
     "output_type": "stream",
     "text": [
      "Sum of a and b is :  30\n",
      "Difference of a and b is :  -10\n"
     ]
    }
   ],
   "source": [
    "def add_numbers(x,y):\n",
    "    return x + y\n",
    "\n",
    "def subtract_numbers(x,y):\n",
    "    return x - y\n",
    "\n",
    "a = 10\n",
    "b = 20\n",
    "\n",
    "sum = add_numbers(a,b)\n",
    "print(\"Sum of a and b is : \",sum)\n",
    "\n",
    "difference = subtract_numbers(a,b)\n",
    "print(\"Difference of a and b is : \",difference)"
   ]
  },
  {
   "cell_type": "code",
   "execution_count": null,
   "id": "c6a3b72e",
   "metadata": {},
   "outputs": [],
   "source": []
  }
 ],
 "metadata": {
  "kernelspec": {
   "display_name": "Python 3 (ipykernel)",
   "language": "python",
   "name": "python3"
  },
  "language_info": {
   "codemirror_mode": {
    "name": "ipython",
    "version": 3
   },
   "file_extension": ".py",
   "mimetype": "text/x-python",
   "name": "python",
   "nbconvert_exporter": "python",
   "pygments_lexer": "ipython3",
   "version": "3.9.12"
  }
 },
 "nbformat": 4,
 "nbformat_minor": 5
}
