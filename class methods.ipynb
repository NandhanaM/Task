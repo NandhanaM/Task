{
 "cells": [
  {
   "cell_type": "code",
   "execution_count": 1,
   "id": "5d996c77",
   "metadata": {},
   "outputs": [
    {
     "name": "stdout",
     "output_type": "stream",
     "text": [
      "Jansons institute of technology\n"
     ]
    }
   ],
   "source": [
    "class Student:\n",
    "# Class variable\n",
    "    college = \"Jansons institute of technology\"\n",
    "\n",
    "# Constructor\n",
    "    def __init__(self, name, age):\n",
    "        self.name = name\n",
    "        self.age = age\n",
    "\n",
    " # Class method\n",
    "    @classmethod\n",
    "    def getCollege(cls):\n",
    "        return cls.college\n",
    "\n",
    "\n",
    "s1 = Student(\"Nandhana\", 20)\n",
    "s2 = Student(\"vasundhara\", 21)\n",
    "\n",
    "# Calling class method using class\n",
    "print(Student.getCollege())\n"
   ]
  },
  {
   "cell_type": "code",
   "execution_count": null,
   "id": "1fdfbda5",
   "metadata": {},
   "outputs": [],
   "source": []
  }
 ],
 "metadata": {
  "kernelspec": {
   "display_name": "Python 3 (ipykernel)",
   "language": "python",
   "name": "python3"
  },
  "language_info": {
   "codemirror_mode": {
    "name": "ipython",
    "version": 3
   },
   "file_extension": ".py",
   "mimetype": "text/x-python",
   "name": "python",
   "nbconvert_exporter": "python",
   "pygments_lexer": "ipython3",
   "version": "3.9.12"
  }
 },
 "nbformat": 4,
 "nbformat_minor": 5
}
