{
 "cells": [
  {
   "cell_type": "code",
   "execution_count": 4,
   "id": "2e6637ba",
   "metadata": {},
   "outputs": [
    {
     "name": "stdout",
     "output_type": "stream",
     "text": [
      "The length of the list is:  4\n"
     ]
    }
   ],
   "source": [
    "mylist = [ \"C\", \"C++\", \"python\", \"ruby\"]\n",
    "\n",
    "#Print the length of the list\n",
    "print(\"The length of the list is: \", len(mylist))\n",
    "\n",
    "\n",
    "\n",
    "\n",
    "\n",
    "\n",
    "\n",
    "\n",
    "\n",
    "\n"
   ]
  },
  {
   "cell_type": "code",
   "execution_count": 8,
   "id": "f37fcc95",
   "metadata": {},
   "outputs": [
    {
     "name": "stdout",
     "output_type": "stream",
     "text": [
      "The tuple is:  ('C', 'C++', 'python', 'ruby')\n"
     ]
    }
   ],
   "source": [
    "#Convert list to a tuple\n",
    "mytuple = tuple(mylist)\n",
    "\n",
    "#Print the tuple\n",
    "print(\"The tuple is: \", mytuple)"
   ]
  },
  {
   "cell_type": "code",
   "execution_count": 9,
   "id": "3a68921b",
   "metadata": {},
   "outputs": [
    {
     "name": "stdout",
     "output_type": "stream",
     "text": [
      "The set is:  {'C', 'C++', 'ruby', 'python'}\n"
     ]
    }
   ],
   "source": [
    "#Convert the list to a set\n",
    "myset = set(mylist)\n",
    "\n",
    "#Print the set\n",
    "print(\"The set is: \", myset)"
   ]
  },
  {
   "cell_type": "code",
   "execution_count": 10,
   "id": "19a3f73e",
   "metadata": {},
   "outputs": [
    {
     "name": "stdout",
     "output_type": "stream",
     "text": [
      "The maximum value in the list is:  ruby\n"
     ]
    }
   ],
   "source": [
    "#Find the max value in the list\n",
    "print(\"The maximum value in the list is: \", max(mylist))"
   ]
  },
  {
   "cell_type": "code",
   "execution_count": 11,
   "id": "b6ca5d6f",
   "metadata": {},
   "outputs": [
    {
     "name": "stdout",
     "output_type": "stream",
     "text": [
      "The minimum value in the list is:  C\n"
     ]
    }
   ],
   "source": [
    "\n",
    "#Find the min value in the list\n",
    "print(\"The minimum value in the list is: \", min(mylist))"
   ]
  },
  {
   "cell_type": "code",
   "execution_count": null,
   "id": "2574148d",
   "metadata": {},
   "outputs": [],
   "source": []
  }
 ],
 "metadata": {
  "kernelspec": {
   "display_name": "Python 3 (ipykernel)",
   "language": "python",
   "name": "python3"
  },
  "language_info": {
   "codemirror_mode": {
    "name": "ipython",
    "version": 3
   },
   "file_extension": ".py",
   "mimetype": "text/x-python",
   "name": "python",
   "nbconvert_exporter": "python",
   "pygments_lexer": "ipython3",
   "version": "3.9.12"
  }
 },
 "nbformat": 4,
 "nbformat_minor": 5
}
