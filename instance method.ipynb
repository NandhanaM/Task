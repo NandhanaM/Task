{
 "cells": [
  {
   "cell_type": "code",
   "execution_count": 1,
   "id": "54ea0892",
   "metadata": {},
   "outputs": [
    {
     "name": "stdout",
     "output_type": "stream",
     "text": [
      "This is an instance method.\n"
     ]
    }
   ],
   "source": [
    "class MyClass:\n",
    "    def __init__(self):\n",
    "        self.x = 10\n",
    " \n",
    "    def instance_method(self):\n",
    "        print('This is an instance method.')\n",
    " \n",
    "my_object = MyClass()\n",
    "my_object.instance_method()"
   ]
  },
  {
   "cell_type": "code",
   "execution_count": null,
   "id": "16a13841",
   "metadata": {},
   "outputs": [],
   "source": []
  }
 ],
 "metadata": {
  "kernelspec": {
   "display_name": "Python 3 (ipykernel)",
   "language": "python",
   "name": "python3"
  },
  "language_info": {
   "codemirror_mode": {
    "name": "ipython",
    "version": 3
   },
   "file_extension": ".py",
   "mimetype": "text/x-python",
   "name": "python",
   "nbconvert_exporter": "python",
   "pygments_lexer": "ipython3",
   "version": "3.9.12"
  }
 },
 "nbformat": 4,
 "nbformat_minor": 5
}
