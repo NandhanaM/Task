{
 "cells": [
  {
   "cell_type": "code",
   "execution_count": 1,
   "id": "38fe98b9-562b-49c9-ac32-856d2916059a",
   "metadata": {
    "tags": []
   },
   "outputs": [
    {
     "name": "stdout",
     "output_type": "stream",
     "text": [
      "(1, 2, 3, 4, 5)\n"
     ]
    }
   ],
   "source": [
    "tuple = (1, 2, 3, 4, 5)\n",
    "\n",
    "print(tuple) "
   ]
  },
  {
   "cell_type": "code",
   "execution_count": null,
   "id": "ae70e9b4-7cb2-45a2-be74-9f632a510d0f",
   "metadata": {},
   "outputs": [],
   "source": []
  }
 ],
 "metadata": {
  "kernelspec": {
   "display_name": "Python 3 (ipykernel)",
   "language": "python",
   "name": "python3"
  },
  "language_info": {
   "codemirror_mode": {
    "name": "ipython",
    "version": 3
   },
   "file_extension": ".py",
   "mimetype": "text/x-python",
   "name": "python",
   "nbconvert_exporter": "python",
   "pygments_lexer": "ipython3",
   "version": "3.10.7"
  }
 },
 "nbformat": 4,
 "nbformat_minor": 5
}
