{
 "cells": [
  {
   "cell_type": "code",
   "execution_count": 1,
   "id": "54e6ddd9-21dd-4aaa-afce-6980f8727223",
   "metadata": {
    "tags": []
   },
   "outputs": [
    {
     "name": "stdin",
     "output_type": "stream",
     "text": [
      "Enter a number: 77\n"
     ]
    },
    {
     "name": "stdout",
     "output_type": "stream",
     "text": [
      "n is odd\n"
     ]
    }
   ],
   "source": [
    "n=int(input(\"Enter a number:\"))\n",
    "if(n%2==0):\n",
    "      print(\"n is even\")\n",
    "else:\n",
    "      print(\"n is odd\")"
   ]
  },
  {
   "cell_type": "code",
   "execution_count": null,
   "id": "57075a41-b641-4ebd-86bc-ebe6c5521acf",
   "metadata": {},
   "outputs": [],
   "source": []
  }
 ],
 "metadata": {
  "kernelspec": {
   "display_name": "Python 3 (ipykernel)",
   "language": "python",
   "name": "python3"
  },
  "language_info": {
   "codemirror_mode": {
    "name": "ipython",
    "version": 3
   },
   "file_extension": ".py",
   "mimetype": "text/x-python",
   "name": "python",
   "nbconvert_exporter": "python",
   "pygments_lexer": "ipython3",
   "version": "3.10.7"
  }
 },
 "nbformat": 4,
 "nbformat_minor": 5
}
